{
 "cells": [
  {
   "cell_type": "markdown",
   "id": "c179e905",
   "metadata": {},
   "source": [
    "# USE CASE:\n",
    "\n",
    "While working with huge datasets and sometimes with multiple datasets either in CSV or XLSX format, there might be a situation where you want to create a table or a file with all the 'METADATA' information stored in one place.\n",
    "This script is particularly designed in such case, where we have around 3 CSV files each have a unique filename. The goal is to create a unique row with filename attached with each column name.\n",
    "\n",
    "* Developed by: Kiran Kaushal Kopalley\n",
    "* Date: 12/10/2021"
   ]
  },
  {
   "cell_type": "markdown",
   "id": "e66da291",
   "metadata": {},
   "source": [
    "### 1. Importing the libraries needed for our script"
   ]
  },
  {
   "cell_type": "code",
   "execution_count": 81,
   "id": "ecf895ed",
   "metadata": {},
   "outputs": [],
   "source": [
    "import pandas as pd\n",
    "import os\n",
    "import glob as g\n",
    "import io"
   ]
  },
  {
   "cell_type": "markdown",
   "id": "827da982",
   "metadata": {},
   "source": [
    "### 2. Ask user for the file format which should be read and also the location in which the files are present"
   ]
  },
  {
   "cell_type": "code",
   "execution_count": 82,
   "id": "d4de65a6",
   "metadata": {},
   "outputs": [
    {
     "name": "stdout",
     "output_type": "stream",
     "text": [
      "Enter the location path from where you need to read the files: C:\\Users\\kkopalley\\OneDrive - Primary Residential Mortgage\\Documents\\Work\\Data Analysis\\GitHub\n",
      "Enter the filetype which you want to read the file names (csv/xlsx): csv\n",
      "\n",
      "Number of elements in the list:  3 \n",
      "\n",
      "C:\\Users\\kkopalley\\OneDrive - Primary Residential Mortgage\\Documents\\Work\\Data Analysis\\GitHub\\File 1.csv\n",
      "\n",
      "C:\\Users\\kkopalley\\OneDrive - Primary Residential Mortgage\\Documents\\Work\\Data Analysis\\GitHub\\File 2.csv\n",
      "\n",
      "C:\\Users\\kkopalley\\OneDrive - Primary Residential Mortgage\\Documents\\Work\\Data Analysis\\GitHub\\File 3.csv\n"
     ]
    }
   ],
   "source": [
    "# Taking the input from the user\n",
    "fetchFilesFromLocation = input('Enter the location path from where you need to read the files: ')\n",
    "fileType = input('Enter the filetype which you want to read the file names (csv/xlsx): ')\n",
    "# Bring all the files along with the path into the list\n",
    "filesInDirectory = g.glob(os.path.join(fetchFilesFromLocation, \"*.\"+fileType))\n",
    "# calculating the length of the list and giving the user an idea of how many files are present\n",
    "numberOfFiles = len(filesInDirectory)\n",
    "# if there are files with the user specified fileformat displaying those files to output\n",
    "if(numberOfFiles>0):\n",
    "    print(\"\\nNumber of elements in the list: \", numberOfFiles,'\\n')\n",
    "    print(*filesInDirectory, sep='\\n\\n')\n",
    "# This case gets executed if there are no files with the format asked by the user\n",
    "else:\n",
    "    print('There are no files of the type ', fileType)\n",
    "    "
   ]
  },
  {
   "cell_type": "markdown",
   "id": "3e82c289",
   "metadata": {},
   "source": [
    "### 3. Initializing the variables needed for the script"
   ]
  },
  {
   "cell_type": "code",
   "execution_count": 83,
   "id": "5e8c528c",
   "metadata": {},
   "outputs": [],
   "source": [
    "finalResult = pd.DataFrame()\n",
    "i=1"
   ]
  },
  {
   "cell_type": "markdown",
   "id": "ef64209d",
   "metadata": {},
   "source": [
    "### 4. Transposing the column names in each CSV file and appending file name to each row"
   ]
  },
  {
   "cell_type": "code",
   "execution_count": 84,
   "id": "d4788086",
   "metadata": {},
   "outputs": [
    {
     "name": "stdout",
     "output_type": "stream",
     "text": [
      "File 0 -> C:\\Users\\kkopalley\\OneDrive - Primary Residential Mortgage\\Documents\\Work\\Data Analysis\\GitHub\\File 1.csv\n",
      "\n",
      "File 1 -> C:\\Users\\kkopalley\\OneDrive - Primary Residential Mortgage\\Documents\\Work\\Data Analysis\\GitHub\\File 2.csv\n",
      "\n",
      "File 2 -> C:\\Users\\kkopalley\\OneDrive - Primary Residential Mortgage\\Documents\\Work\\Data Analysis\\GitHub\\File 3.csv\n",
      "\n"
     ]
    }
   ],
   "source": [
    "for f in filesInDirectory:\n",
    "    list1=[]\n",
    "    list1[0:]=f[:f.index(\".\")]\n",
    "    list1[0:] = [''.join(list1[0:])]\n",
    "    list1df = pd.DataFrame(list1)\n",
    "    df = pd.read_csv(f)\n",
    "    tempList=[]\n",
    "    tempList.append(df.columns.to_list())\n",
    "    tempListDf = pd.DataFrame(tempList)\n",
    "    #ravel function is used to create a contiguous flattened array\n",
    "    tempdf = pd.DataFrame(tempListDf.values.ravel(), columns=['Column Name'])\n",
    "    res = list1df.merge(tempdf, how='cross')\n",
    "    finalResult=pd.concat([finalResult,res],axis=0)\n",
    "    print('File '+str(i)+' -> '+ str(f)+'\\n')\n",
    "    i=i+1"
   ]
  },
  {
   "cell_type": "markdown",
   "id": "d4c0a382",
   "metadata": {},
   "source": [
    "### 5. Assigning Column names and replacing the file path in all the cells so just file name remains in the cell value."
   ]
  },
  {
   "cell_type": "code",
   "execution_count": 85,
   "id": "bc21cd5c",
   "metadata": {},
   "outputs": [],
   "source": [
    "# Assigning column names\n",
    "finalResult.columns = ['File Name', 'Column Name']\n",
    "# Appending \\ to the input location so that while replacing the file path the cell value is clean\n",
    "fetchFilesFromLocation+=\"\\\\\"\n",
    "# Replacing the file location \n",
    "finalResult['File Name'] = finalResult['File Name'].str.replace(fetchFilesFromLocation,\"\", regex = False)\n",
    "# Display the final result\n",
    "finalResult"
   ]
  },
  {
   "cell_type": "markdown",
   "id": "dcbfac0b",
   "metadata": {},
   "source": [
    "### 6. Exporting the finalResult Dataframe to a CSV file"
   ]
  },
  {
   "cell_type": "code",
   "execution_count": null,
   "id": "5c431520",
   "metadata": {},
   "outputs": [],
   "source": [
    "finalResult.to_csv('MetaData.csv', index=False)"
   ]
  }
 ],
 "metadata": {
  "kernelspec": {
   "display_name": "Python 3 (ipykernel)",
   "language": "python",
   "name": "python3"
  },
  "language_info": {
   "codemirror_mode": {
    "name": "ipython",
    "version": 3
   },
   "file_extension": ".py",
   "mimetype": "text/x-python",
   "name": "python",
   "nbconvert_exporter": "python",
   "pygments_lexer": "ipython3",
   "version": "3.8.11"
  }
 },
 "nbformat": 4,
 "nbformat_minor": 5
}
